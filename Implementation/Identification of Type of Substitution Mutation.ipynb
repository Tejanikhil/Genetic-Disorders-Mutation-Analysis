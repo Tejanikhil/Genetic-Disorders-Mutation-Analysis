{
 "cells": [
  {
   "cell_type": "markdown",
   "metadata": {},
   "source": [
    "## Extracting only the top substitutions from all the mutations"
   ]
  },
  {
   "cell_type": "markdown",
   "metadata": {},
   "source": [
    "If in case the mutations in the gene are due to the frame shift as well as point mutations then the top substitution are extracted and analysed to check whether the top substitutions can cause any danger mutations and the reason why analyse the top mutations is that, if the mutation is a frame shift mutation then in that case any ways the gene totally be changed which results in coding for different protein than required. "
   ]
  },
  {
   "cell_type": "code",
   "execution_count": 195,
   "metadata": {},
   "outputs": [],
   "source": [
    "filtered_substitution = []\n",
    "for i in mutation_index:\n",
    "    if(i[1]==0):\n",
    "        filtered_substitution.append(i[0])\n",
    "    else:\n",
    "        break"
   ]
  },
  {
   "cell_type": "code",
   "execution_count": 196,
   "metadata": {},
   "outputs": [],
   "source": [
    "mutation_reader = []\n",
    "actual = Genome_Before_Mutation\n",
    "mutated = Genome_After_Mutation\n",
    "for i in filtered_substitution:\n",
    "    \n",
    "    if(i%3==0):\n",
    "        if(i+3 <= len(Genome_Before_Mutation)):\n",
    "            if(i+1==len(Genome_Before_Mutation)):\n",
    "                mutation_reader.append(f\"{actual[i]}--->{mutated[i]}\")\n",
    "            else:\n",
    "                mutation_reader.append((f\"{actual[i:i+3]}--->{mutated[i:i+3]}\"))\n",
    "        else:\n",
    "            mutation_reader.append(f\"{actual[i:]}--->{mutated[i:]}\")\n",
    "    \n",
    "    elif(i%3==1):\n",
    "        if(i+2 <= len(Genome_Before_Mutation)):\n",
    "            if(i+1==len(Genome_Before_Mutation)):\n",
    "                mutation_reader.append(f\"{actual[i]}--->{mutated[i]}\")\n",
    "            else:\n",
    "                mutation_reader.append((f\"{actual[i-1:i+2]}--->{mutated[i-1:i+2]}\"))\n",
    "        else:\n",
    "            mutation_reader.append(f\"{actual[i-1:]}--->{mutated[i-1:]}\")\n",
    "    \n",
    "    else:\n",
    "        mutation_reader.append(f\"{actual[i-2:i+1]}--->{mutated[i-2:i+1]}\")"
   ]
  },
  {
   "cell_type": "code",
   "execution_count": 197,
   "metadata": {},
   "outputs": [
    {
     "data": {
      "text/plain": [
       "['CTC--->ATC', 'CTG--->TTG']"
      ]
     },
     "execution_count": 197,
     "metadata": {},
     "output_type": "execute_result"
    }
   ],
   "source": [
    "mutation_reader"
   ]
  },
  {
   "cell_type": "markdown",
   "metadata": {},
   "source": [
    "## Classifying the substitution mutation as missense or non-sense or silence mutation"
   ]
  },
  {
   "cell_type": "code",
   "execution_count": 198,
   "metadata": {},
   "outputs": [],
   "source": [
    "import matplotlib.pyplot as plt\n",
    "import seaborn as sns"
   ]
  },
  {
   "cell_type": "code",
   "execution_count": 199,
   "metadata": {},
   "outputs": [],
   "source": [
    "A_codon = {\n",
    "        'ATA':'I', 'ATC':'I', 'ATT':'I', 'ATG':'M',\n",
    "        'ACA':'T', 'ACC':'T', 'ACG':'T', 'ACT':'T',\n",
    "        'AAC':'N', 'AAT':'N', 'AAA':'K', 'AAG':'K',\n",
    "        'AGC':'S', 'AGT':'S', 'AGA':'R', 'AGG':'R',\n",
    "}"
   ]
  },
  {
   "cell_type": "code",
   "execution_count": 200,
   "metadata": {},
   "outputs": [],
   "source": [
    "C_codon = {\n",
    "        'CTA':'L', 'CTC':'L', 'CTG':'L', 'CTT':'L',\n",
    "        'CCA':'P', 'CCC':'P', 'CCG':'P', 'CCT':'P',\n",
    "        'CAC':'H', 'CAT':'H', 'CAA':'Q', 'CAG':'Q',\n",
    "        'CGA':'R', 'CGC':'R', 'CGG':'R', 'CGT':'R',\n",
    "}"
   ]
  },
  {
   "cell_type": "code",
   "execution_count": 201,
   "metadata": {},
   "outputs": [],
   "source": [
    "G_codon = {\n",
    "        'GTA':'V', 'GTC':'V', 'GTG':'V', 'GTT':'V',\n",
    "        'GCA':'A', 'GCC':'A', 'GCG':'A', 'GCT':'A',\n",
    "        'GAC':'D', 'GAT':'D', 'GAA':'E', 'GAG':'E',\n",
    "        'GGA':'G', 'GGC':'G', 'GGG':'G', 'GGT':'G',\n",
    "}"
   ]
  },
  {
   "cell_type": "code",
   "execution_count": 202,
   "metadata": {},
   "outputs": [],
   "source": [
    "T_codon = {\n",
    "        'TCA':'S', 'TCC':'S', 'TCG':'S', 'TCT':'S',\n",
    "        'TTC':'F', 'TTT':'F', 'TTA':'L', 'TTG':'L',\n",
    "        'TAC':'Y', 'TAT':'Y', 'TAA':'_', 'TAG':'_',\n",
    "        'TGC':'C', 'TGT':'C', 'TGA':'_', 'TGG':'W',\n",
    "}"
   ]
  },
  {
   "cell_type": "code",
   "execution_count": 203,
   "metadata": {},
   "outputs": [],
   "source": [
    "codon_encoder = dict()\n",
    "codon_encoder.update(A_codon)\n",
    "codon_encoder.update(T_codon)\n",
    "codon_encoder.update(G_codon)\n",
    "codon_encoder.update(C_codon)"
   ]
  },
  {
   "cell_type": "code",
   "execution_count": 204,
   "metadata": {},
   "outputs": [
    {
     "data": {
      "text/plain": [
       "['CTC--->ATC', 'CTG--->TTG']"
      ]
     },
     "execution_count": 204,
     "metadata": {},
     "output_type": "execute_result"
    }
   ],
   "source": [
    "Extracted_codons = mutation_reader\n",
    "Extracted_codons"
   ]
  },
  {
   "cell_type": "code",
   "execution_count": 205,
   "metadata": {},
   "outputs": [],
   "source": [
    "Encoded_proteins = []\n",
    "for index,i in enumerate(Extracted_codons):\n",
    "    Encoded_proteins.append((codon_encoder[Extracted_codons[index][0:3]], codon_encoder[Extracted_codons[index][7:10]]))\n"
   ]
  },
  {
   "cell_type": "code",
   "execution_count": 206,
   "metadata": {},
   "outputs": [
    {
     "name": "stdout",
     "output_type": "stream",
     "text": [
      "Mutation at 0 can cause cancer as it is a missense mutation.(High severity)\n",
      "Mutation at 69 cannot be responsible for cancer as it is a silence mutation\n"
     ]
    }
   ],
   "source": [
    "for index, i in enumerate(Encoded_proteins):\n",
    "    if(i[0]!=i[1]):\n",
    "        if(Num_FrameShift > 0):\n",
    "            print(f\"Mutation at {mutation_index[index][0]} can cause cancer as it is a missense mutation.(High severity)\")\n",
    "        else:\n",
    "            print(f\"Mutation at {mutation_index[index][0]} can cause cancer as it is a missense mutation.(not much sever)\")\n",
    "    elif(i[1]==\"_\"):\n",
    "        print(f\"Mutation at {mutation_index[index][0]} is a nonsense mutation\")\n",
    "    else:\n",
    "        print(f\"Mutation at {mutation_index[index][0]} cannot be responsible for cancer as it is a silence mutation\")"
   ]
  }
 ],
 "metadata": {
  "kernelspec": {
   "display_name": "Python 3",
   "language": "python",
   "name": "python3"
  },
  "language_info": {
   "codemirror_mode": {
    "name": "ipython",
    "version": 3
   },
   "file_extension": ".py",
   "mimetype": "text/x-python",
   "name": "python",
   "nbconvert_exporter": "python",
   "pygments_lexer": "ipython3",
   "version": "3.8.5"
  }
 },
 "nbformat": 4,
 "nbformat_minor": 4
}
