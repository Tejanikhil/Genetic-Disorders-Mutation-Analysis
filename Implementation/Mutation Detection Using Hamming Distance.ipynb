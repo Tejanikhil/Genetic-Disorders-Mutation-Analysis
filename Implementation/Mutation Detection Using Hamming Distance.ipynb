{
 "cells": [
  {
   "cell_type": "code",
   "execution_count": 1,
   "metadata": {},
   "outputs": [],
   "source": [
    "def isSubstituted(actual,mutated):\n",
    "    if(actual==mutated):\n",
    "        return True\n",
    "    else:\n",
    "        return False"
   ]
  },
  {
   "cell_type": "code",
   "execution_count": 2,
   "metadata": {},
   "outputs": [],
   "source": [
    "def isInserted(actual,mutated):\n",
    "    if(actual==mutated):\n",
    "        return True\n",
    "    else:\n",
    "        return False"
   ]
  },
  {
   "cell_type": "code",
   "execution_count": 4,
   "metadata": {},
   "outputs": [],
   "source": [
    "def isDeleted(actual,mutated):\n",
    "    if(actual==mutated):\n",
    "        return True\n",
    "    else:\n",
    "        return False"
   ]
  },
  {
   "cell_type": "code",
   "execution_count": 85,
   "metadata": {},
   "outputs": [],
   "source": [
    "def detectMutation_type(actual, mutated):\n",
    "    \n",
    "    mutation_indexes = []\n",
    "#  --------Initializations---------\n",
    "    actual_length = len(actual)\n",
    "    mutated_length = len(mutated)\n",
    "    threshold = 4\n",
    "    trace_mutated_index = 0\n",
    "    trace_actual_index = 0\n",
    "    Number_of_Insertions = 0\n",
    "    Number_of_deletions = 0\n",
    "    list_insertion_indexes = []\n",
    "    list_deletion_indexes = []\n",
    "#  ------------------------------------\n",
    "\n",
    "#   -----------Looping---------------\n",
    "    while(True):\n",
    "        if(trace_actual_index==actual_length):\n",
    "            break;\n",
    "            \n",
    "        else: #####Run the program#####\n",
    "            if(trace_actual_index+1+threshold <= actual_length):\n",
    "              \n",
    "                if(actual[trace_actual_index] != mutated[trace_mutated_index]):\n",
    "                    if(isSubstituted(actual[trace_actual_index+1:trace_actual_index+1+threshold], mutated[trace_mutated_index+1:trace_mutated_index+1+threshold])):\n",
    "                        print(f\"Substitution mutation detected at index position {trace_actual_index}\")\n",
    "                        mutation_indexes.append([trace_actual_index,\"Substitution\"])\n",
    "                    elif(isInserted(actual[trace_actual_index:trace_actual_index+threshold], mutated[trace_mutated_index+1:trace_mutated_index+1+threshold])):\n",
    "                        print(f\"Insertion mutation detected at index position {trace_actual_index}\")\n",
    "                        mutation_indexes.append([trace_actual_index,\"Insertion\"])\n",
    "                        trace_mutated_index = trace_mutated_index + 1\n",
    "                        Number_of_Insertions = Number_of_Insertions + 1\n",
    "                    elif(isDeleted(actual[trace_actual_index+1:trace_actual_index+1+threshold], mutated[trace_mutated_index:trace_mutated_index+threshold])):\n",
    "                        print(f\"Deletion mutation detected at index position {trace_actual_index}\")\n",
    "                        mutation_indexes.append([trace_actual_index, \"Deletion\"])\n",
    "                        trace_actual_index = trace_actual_index + 1\n",
    "                        Number_of_deletions = Number_of_deletions + 1\n",
    "\n",
    "                \n",
    "                \n",
    "            elif(trace_actual_index+1+threshold > actual_length):\n",
    "                \n",
    "                if(trace_actual_index+2==actual_length): ### Mutation at detected last but one index of actual sequence ###\n",
    "                    \n",
    "                    if(actual[trace_actual_index] != mutated[trace_mutated_index]):\n",
    "                        if((trace_mutated_index!=mutated_length-1) and (isSubstituted(actual[trace_actual_index+1], mutated[trace_mutated_index+1]))):\n",
    "                            print(f\"Substitution mutation detected at index position {trace_actual_index}\")\n",
    "                            mutation_indexes.append([trace_actual_index,\"Substitution\"])\n",
    "                        elif(isInserted(actual[trace_actual_index:], mutated[trace_mutated_index+1:])):\n",
    "                            print(f\"Insertion mutation detected at index position {trace_actual_index}\")\n",
    "                            mutation_indexes.append([trace_actual_index,\"Insertion\"])\n",
    "                            trace_mutated_index = trace_mutated_index + 1\n",
    "                            Number_of_Insertions = Number_of_Insertions + 1\n",
    "                        elif(isDeleted(actual[trace_actual_index+1], mutated[trace_mutated_index])):\n",
    "                            print(f\"Deletion mutation detected at index position {trace_actual_index}\")\n",
    "                            mutation_indexes.append([trace_actual_index, \"Deletion\"])\n",
    "                            trace_actual_index = trace_actual_index + 1\n",
    "                            Number_of_deletions = Number_of_deletions + 1\n",
    "                        \n",
    "                    \n",
    "                \n",
    "                elif(trace_actual_index+1==actual_length): ### Mutation detected at last index of actual sequence ###\n",
    "                    if(trace_mutated_index==mutated_length):\n",
    "                        print(f\"Deletion mutation detected at index position {trace_actual_index}\")\n",
    "                        mutation_indexes.append([trace_actual_index, \"Deletion\"])\n",
    "                        trace_actual_index = trace_actual_index + 1\n",
    "                        Number_of_deletions = Number_of_deletions + 1\n",
    "                        break\n",
    "                    elif((actual[trace_actual_index] != mutated[trace_mutated_index])):\n",
    "                        if((trace_mutated_index== mutated_length-1)):\n",
    "                            if(trace_actual_index==actual_length-1):\n",
    "                                print(f\"Substitution mutation detected at index position {trace_actual_index}\")\n",
    "                                mutation_indexes.append([trace_actual_index,\"Substitution\"])\n",
    "                        elif(trace_mutated_index != mutated_length - 1):\n",
    "                            if(actual[trace_actual_index]==mutated[trace_mutated_index+1]):\n",
    "                                print(f\"Insertion mutation detected at index position {trace_actual_index}\")\n",
    "                                mutation_indexes.append([trace_actual_index,\"Insertion\"])\n",
    "                                trace_mutated_index = trace_mutated_index + 1\n",
    "                                Number_of_Insertions = Number_of_Insertions + 1\n",
    "                        elif(trace_mutated_index==mutated_length):\n",
    "                            if(trace_actual_index==actual_length-1):\n",
    "                                print(f\"Deletion mutation detected at index position {trace_actual_index}\")\n",
    "                                mutation_indexes.append([trace_actual_index, \"Deletion\"])\n",
    "                                trace_actual_index = trace_actual_index + 1\n",
    "                                Number_of_deletions = Number_of_deletions + 1\n",
    "                        \n",
    "                    \n",
    "        \n",
    "                else: # Other type of mutations\n",
    "                    if(actual[trace_actual_index] != mutated[trace_mutated_index]):\n",
    "                        if(isSubstituted(actual[trace_actual_index+1:], mutated[trace_mutated_index+1:])):\n",
    "                            print(f\"Substitution mutation detected at index position {trace_actual_index}\")\n",
    "                            mutation_indexes.append([trace_actual_index,\"Substitution\"])\n",
    "                        elif(isInserted(actual[trace_actual_index:], mutated[trace_mutated_index+1:])):\n",
    "                            mutation_indexes.append([trace_actual_index,\"Insertion\"])\n",
    "                            print(f\"Insertion mutation detected at index position {trace_actual_index}\")\n",
    "                            trace_mutated_index = trace_mutated_index + 1\n",
    "                            Number_of_Insertions = Number_of_Insertions + 1\n",
    "                        elif(isDeleted(actual[trace_actual_index+1:], mutated[trace_mutated_index:])):\n",
    "                            print(f\"Deletion mutation detected at index position {trace_actual_index}\")\n",
    "                            mutation_indexes.append([trace_actual_index, \"Deletion\"])\n",
    "                            trace_actual_index = trace_actual_index + 1\n",
    "                            Number_of_deletions = Number_of_deletions + 1\n",
    "                        \n",
    "        trace_actual_index = trace_actual_index + 1\n",
    "        trace_mutated_index = trace_mutated_index + 1\n",
    "    return mutation_indexes"
   ]
  },
  {
   "cell_type": "code",
   "execution_count": 114,
   "metadata": {},
   "outputs": [
    {
     "name": "stdout",
     "output_type": "stream",
     "text": [
      "Substitution mutation detected at index position 1\n",
      "Substitution mutation detected at index position 6\n",
      "Deletion mutation detected at index position 14\n"
     ]
    }
   ],
   "source": [
    "Genome_Before_Mutation = \"ATACGTGGATAGAA*A\"\n",
    "Genome_After_Mutation =   \"ACACGTAGATAGAAA\"\n",
    "mutation_index = detectMutation_type(Genome_Before_Mutation, Genome_After_Mutation)"
   ]
  },
  {
   "cell_type": "code",
   "execution_count": 115,
   "metadata": {},
   "outputs": [
    {
     "data": {
      "text/plain": [
       "[[1, 'Substitution'], [6, 'Substitution'], [14, 'Deletion']]"
      ]
     },
     "execution_count": 115,
     "metadata": {},
     "output_type": "execute_result"
    }
   ],
   "source": [
    "mutation_index"
   ]
  },
  {
   "cell_type": "code",
   "execution_count": 116,
   "metadata": {},
   "outputs": [],
   "source": [
    "## if in case there are all substitution mutations in the gene then we are supposed to find the type of mutation it is like\n",
    "## whether it is a missense mutation or a non sense mutation or a silent mutation"
   ]
  },
  {
   "cell_type": "code",
   "execution_count": 117,
   "metadata": {},
   "outputs": [
    {
     "data": {
      "text/plain": [
       "[[1, 0], [6, 0], [14, 2]]"
      ]
     },
     "execution_count": 117,
     "metadata": {},
     "output_type": "execute_result"
    }
   ],
   "source": [
    "Dictionary = {\"Substitution\":0, \"Insertion\":1, \"Deletion\":2}\n",
    "for index,i in enumerate(mutation_index):\n",
    "    mutation_index[index][1] = Dictionary[mutation_index[index][1]] \n",
    "\n",
    "mutation_index"
   ]
  },
  {
   "cell_type": "code",
   "execution_count": 118,
   "metadata": {},
   "outputs": [],
   "source": [
    "filtered_substitution = []\n",
    "for i in mutation_index:\n",
    "    if(i[1]==0):\n",
    "        filtered_substitution.append(i[0])\n",
    "    else:\n",
    "        break"
   ]
  },
  {
   "cell_type": "code",
   "execution_count": 119,
   "metadata": {},
   "outputs": [
    {
     "data": {
      "text/plain": [
       "[1, 6]"
      ]
     },
     "execution_count": 119,
     "metadata": {},
     "output_type": "execute_result"
    }
   ],
   "source": [
    "filtered_substitution"
   ]
  },
  {
   "cell_type": "code",
   "execution_count": 120,
   "metadata": {},
   "outputs": [],
   "source": [
    "mutation_reader = []\n",
    "actual = Genome_Before_Mutation\n",
    "mutated = Genome_After_Mutation\n",
    "\n",
    "for i in filtered_substitution:\n",
    "    \n",
    "    if(i%3==0):\n",
    "        if(i+3 <= len(Genome_Before_Mutation)):\n",
    "            if(i+1==len(Genome_Before_Mutation)):\n",
    "                mutation_reader.append(f\"{actual[i]}--->{mutated[i]}\")\n",
    "            else:\n",
    "                mutation_reader.append((f\"{actual[i:i+3]}--->{mutated[i:i+3]}\"))\n",
    "        else:\n",
    "            mutation_reader.append(f\"{actual[i:]}--->{mutated[i:]}\")\n",
    "    \n",
    "    elif(i%3==1):\n",
    "        if(i+2 <= len(Genome_Before_Mutation)):\n",
    "            if(i+1==len(Genome_Before_Mutation)):\n",
    "                mutation_reader.append(f\"{actual[i]}--->{mutated[i]}\")\n",
    "            else:\n",
    "                mutation_reader.append((f\"{actual[i-1:i+2]}--->{mutated[i-1:i+2]}\"))\n",
    "        else:\n",
    "            mutation_reader.append(f\"{actual[i-1:]}--->{mutated[i-1:]}\")\n",
    "    \n",
    "    else:\n",
    "        mutation_reader.append(f\"{actual[i-2:i+1]}--->{mutated[i-2:i+1]}\")"
   ]
  },
  {
   "cell_type": "code",
   "execution_count": 121,
   "metadata": {},
   "outputs": [
    {
     "data": {
      "text/plain": [
       "['ATA--->ACA', 'GGA--->AGA']"
      ]
     },
     "execution_count": 121,
     "metadata": {},
     "output_type": "execute_result"
    }
   ],
   "source": [
    "mutation_reader"
   ]
  },
  {
   "cell_type": "code",
   "execution_count": null,
   "metadata": {},
   "outputs": [],
   "source": []
  }
 ],
 "metadata": {
  "kernelspec": {
   "display_name": "Python 3",
   "language": "python",
   "name": "python3"
  },
  "language_info": {
   "codemirror_mode": {
    "name": "ipython",
    "version": 3
   },
   "file_extension": ".py",
   "mimetype": "text/x-python",
   "name": "python",
   "nbconvert_exporter": "python",
   "pygments_lexer": "ipython3",
   "version": "3.8.5"
  }
 },
 "nbformat": 4,
 "nbformat_minor": 4
}
